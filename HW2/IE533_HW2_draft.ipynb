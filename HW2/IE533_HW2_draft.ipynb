{
 "cells": [
  {
   "attachments": {},
   "cell_type": "markdown",
   "metadata": {},
   "source": [
    "__NAME: Duo ZHOU__\n",
    "\n",
    "__NETID: duozhou2__"
   ]
  },
  {
   "attachments": {},
   "cell_type": "markdown",
   "metadata": {},
   "source": [
    "# Question 1\n",
    "\n",
    "Show that a directed graph G is acyclic if and only if we can renumber its nodes so that its node-node adjacency matrix is a lower triangular matrix."
   ]
  },
  {
   "attachments": {},
   "cell_type": "markdown",
   "metadata": {},
   "source": [
    "## Solution"
   ]
  },
  {
   "attachments": {},
   "cell_type": "markdown",
   "metadata": {},
   "source": [
    "__Proof:__ A directed graph G is acyclic if and only if there are no directed cycles in the graph.\n",
    "\n",
    "First, let's prove that if G is acyclic, we can renumber its nodes so that its node-node adjacency matrix is a lower triangular matrix.\n",
    "\n",
    "An acyclic directed graph can be topologically sorted, which means that the nodes can be renumbered such that for every directed edge $(u, v)$, node $u$ appears before node $v$ in the ordering. \n",
    "\n",
    "$\\because$ If there is an edge $(u, v)$ and $u$ is assigned a lower number than $v$, then the entry in the adjacency matrix for the edge $(u, v)$ will be in a lower row and column than the entry for the edge $(v, u)$ (if it exists).\n",
    "\n",
    "$\\therefore$ If we use this topological ordering as the new numbering of the nodes, the node-node adjacency matrix will be a lower triangular matrix. \n",
    "\n",
    "If the adjacency matrix of a graph is lower triangular, $\\to$ there is no edge from a node with a higher number to a node with a lower number, $\\to$ there are no directed cycles in the graph, and therefore the graph is acyclic.\n",
    "\n",
    "$\\therefore$ A directed graph G is acyclic if and only if we can renumber its nodes so that its node-node adjacency matrix is a lower triangular matrix."
   ]
  },
  {
   "attachments": {},
   "cell_type": "markdown",
   "metadata": {},
   "source": [
    "# Question 2\n",
    "\n",
    "Let $M$ denote the node-node adjacency matrix of a network $G$. Show that $G$ is strongly connected if and only if the matrix $M+ M_2 + M_3 + ... + M_n$ has no zero entry, for some integer $n$.\n",
    "\n",
    "## Solution\n",
    "\n",
    "__Proof:__\n",
    "\n",
    "\n",
    "Lemma 1: A graph $G$ is strongly connected if there exists a path from every vertex to every other vertex. \n",
    "\n",
    "Lemma 2: The adjacency matrix $M$ of a graph $G$ represents the edges between the vertices, where the entry $M_{i,j}$ is 1 if there is an edge from vertex $i$ to vertex $j$, and 0 otherwise.\n",
    "\n",
    "$\\because$ The matrix $M^k$ for $k\\geq 1$ represents the paths of length $k$ between the vertices. $\\therefore$ If there exists an entry $M^k_{i,j} = 1$, it means that there is a path of length $k$ from vertex $i$ to vertex $j$.\n",
    "\n",
    "The sum of matrices $M + M^2 + M^3 + ... + M^n$ represents all possible paths of length 1, 2, 3, ..., $n$ between vertices. If all entries of the sum are non-zero, it means that there exists a path between every vertex and every other vertex, and therefore the graph is strongly connected.\n",
    "\n",
    "Conversely, if the graph is strongly connected, there exists a path between every vertex and every other vertex. Hence, for any $n$, there will always exist a path of length $n$ between every vertex and every other vertex, which means that all entries of the sum $M + M^2 + M^3 + ... + M^n$ will be non-zero.\n",
    "\n",
    "$\\therefore$ A graph $G$ is strongly connected if and only if the matrix $M + M^2 + M^3 + ... + M^n$ has no zero entry for some integer $n$."
   ]
  },
  {
   "attachments": {},
   "cell_type": "markdown",
   "metadata": {},
   "source": [
    "# Question 3\n",
    "\n",
    "Consider an undirected network with an origin, a destination, and 100 additional nodes, with each pair of nodes connected by an arc. Show that the number of different paths from origin to\n",
    "destination is given by\n",
    "\n",
    "$$\\begin{pmatrix} 100 \\\\ 0 \\end{pmatrix} 100! +\\begin{pmatrix} 100 \\\\ 1 \\end{pmatrix} 99! +\\begin{pmatrix} 100 \\\\ 2 \\end{pmatrix} 98!+...+\\begin{pmatrix} 100 \\\\ 98 \\end{pmatrix} 2!+\\begin{pmatrix} 100 \\\\ 99 \\end{pmatrix} 1!+\\begin{pmatrix} 100 \\\\ 100 \\end{pmatrix} 0!$$"
   ]
  },
  {
   "attachments": {},
   "cell_type": "markdown",
   "metadata": {},
   "source": [
    "# Question 4\n",
    "\n",
    "Show that every tree forms an undirected bipartite graph. Does every undirected bipartite graph form a tree, prove or give a counter example?"
   ]
  },
  {
   "attachments": {},
   "cell_type": "markdown",
   "metadata": {},
   "source": [
    "# Programming Question:\n",
    "For this part of the homework, you will implement some of the algorithms learnt in class. You may use Python, C++, or Java to execute this (Prefer C++ as it will be helpful with CUDA later). Custom packages cannot be used to replace the algorithms tested. The dataset for this can be downloaded from here. This source contains an undirected graph with 112 nodes and 425 edges. \n",
    "\n",
    "## a. Store the graph in adjacency matrix form."
   ]
  },
  {
   "cell_type": "code",
   "execution_count": 83,
   "metadata": {},
   "outputs": [],
   "source": [
    "import numpy as np\n",
    "import pandas as pd\n",
    "\n",
    "df = pd.read_table('./adjnoun_adjacency/out.adjnoun_adjacency_adjacency', sep=\" \", names = [\"node\", \"edge\",\"NA\",\"NA1\"], index_col=None)\n",
    "df = df.drop(index=[0,1], columns=[\"NA\",\"NA1\"])\n",
    "df[\"w\"]=df[[\"node\", \"edge\"]].apply(lambda x: abs(int(x[\"node\"]) - int(x[\"edge\"])), axis=1)\n",
    "df = df.to_numpy().astype(int)"
   ]
  },
  {
   "cell_type": "code",
   "execution_count": 95,
   "metadata": {},
   "outputs": [
    {
     "data": {
      "text/plain": [
       "array([[  1,   2,   1],\n",
       "       [  1,   3,   2],\n",
       "       [  1,   9,   8],\n",
       "       ...,\n",
       "       [104, 105,   1],\n",
       "       [105, 106,   1],\n",
       "       [106, 109,   3]])"
      ]
     },
     "execution_count": 95,
     "metadata": {},
     "output_type": "execute_result"
    }
   ],
   "source": [
    "df                   "
   ]
  },
  {
   "cell_type": "code",
   "execution_count": 96,
   "metadata": {},
   "outputs": [
    {
     "data": {
      "text/plain": [
       "array([[0., 1., 1., ..., 0., 0., 0.],\n",
       "       [0., 0., 1., ..., 0., 0., 0.],\n",
       "       [0., 0., 0., ..., 0., 0., 1.],\n",
       "       ...,\n",
       "       [0., 0., 0., ..., 0., 0., 0.],\n",
       "       [0., 0., 0., ..., 0., 0., 0.],\n",
       "       [0., 0., 0., ..., 0., 0., 0.]])"
      ]
     },
     "execution_count": 96,
     "metadata": {},
     "output_type": "execute_result"
    }
   ],
   "source": [
    "graph1 = np.zeros((112,112))\n",
    "for i in range(df.shape[0]):\n",
    "    graph1[df[i,0]-1,df[i,1]-1] = 1\n",
    "\n",
    "graph1"
   ]
  },
  {
   "attachments": {},
   "cell_type": "markdown",
   "metadata": {},
   "source": [
    "\n",
    "## b. Is this graph connected? What is the median degree of the nodes?\n",
    "\n"
   ]
  },
  {
   "cell_type": "code",
   "execution_count": 44,
   "metadata": {},
   "outputs": [
    {
     "name": "stdout",
     "output_type": "stream",
     "text": [
      "This graph is connected. The median degree of the nodes is 2.0\n"
     ]
    }
   ],
   "source": [
    "n_entrys = 0\n",
    "id_nodes =[]\n",
    "for i in range(graph1.shape[0]):\n",
    "    n_entrys += sum(graph1[i])\n",
    "    id_nodes.append(sum(graph1[i]))\n",
    "\n",
    "if n_entrys == 425:\n",
    "    print(f'This graph is connected. The median degree of the nodes is {np.median(id_nodes)}')\n",
    "else:\n",
    "    print('This graph is NOT connected')\n",
    "\n",
    "    "
   ]
  },
  {
   "attachments": {},
   "cell_type": "markdown",
   "metadata": {},
   "source": [
    "## c. Using the adjacency matrix, write a program to compute the number of triangles. \n",
    "\n",
    "Note: A triangle is a connected subgraph of size three."
   ]
  },
  {
   "cell_type": "code",
   "execution_count": 45,
   "metadata": {},
   "outputs": [
    {
     "data": {
      "text/plain": [
       "0.0"
      ]
     },
     "execution_count": 45,
     "metadata": {},
     "output_type": "execute_result"
    }
   ],
   "source": [
    "np.linalg.matrix_power(graph1,3).trace()/6"
   ]
  },
  {
   "attachments": {},
   "cell_type": "markdown",
   "metadata": {},
   "source": [
    "To set up instance of minimum spanning tree, add edge costs using the following procedure. For an edge between nodes with indices $i$ and $j$, let $|i-j|$ be its edge cost. For example, the cost associated with edge $(31,17)$ is 14. Using this modified graph:\n",
    "\n",
    "\n"
   ]
  },
  {
   "cell_type": "code",
   "execution_count": 55,
   "metadata": {},
   "outputs": [],
   "source": [
    "MAX=1e6\n",
    "graph2 = np.full_like(graph1, MAX )\n",
    "for i in range(df.shape[0]):\n",
    "    graph2[df[i,0]-1,df[i,1]-1] = abs(df[i,0] - df[i,1])"
   ]
  },
  {
   "cell_type": "code",
   "execution_count": 56,
   "metadata": {},
   "outputs": [
    {
     "data": {
      "text/plain": [
       "array([[1.00e+06, 1.00e+00, 2.00e+00, ..., 1.00e+06, 1.00e+06, 1.00e+06],\n",
       "       [1.00e+06, 1.00e+06, 1.00e+00, ..., 1.00e+06, 1.00e+06, 1.00e+06],\n",
       "       [1.00e+06, 1.00e+06, 1.00e+06, ..., 1.00e+06, 1.00e+06, 1.09e+02],\n",
       "       ...,\n",
       "       [1.00e+06, 1.00e+06, 1.00e+06, ..., 1.00e+06, 1.00e+06, 1.00e+06],\n",
       "       [1.00e+06, 1.00e+06, 1.00e+06, ..., 1.00e+06, 1.00e+06, 1.00e+06],\n",
       "       [1.00e+06, 1.00e+06, 1.00e+06, ..., 1.00e+06, 1.00e+06, 1.00e+06]])"
      ]
     },
     "execution_count": 56,
     "metadata": {},
     "output_type": "execute_result"
    }
   ],
   "source": [
    "graph2"
   ]
  },
  {
   "attachments": {},
   "cell_type": "markdown",
   "metadata": {},
   "source": [
    "## d. Implement the Kruskal’s algorithm to find the minimum spanning tree."
   ]
  },
  {
   "attachments": {},
   "cell_type": "markdown",
   "metadata": {},
   "source": [
    "## e. Implement the Prim’s algorithm to find the minimum spanning tree.\n",
    "\n"
   ]
  },
  {
   "attachments": {},
   "cell_type": "markdown",
   "metadata": {},
   "source": [
    "## f. Report the performances for each algorithm (running time, optimal cost, and the optimal solution). Why is there a difference in the run time?\n"
   ]
  },
  {
   "attachments": {},
   "cell_type": "markdown",
   "metadata": {},
   "source": [
    "## g. Formulate the minimum spanning tree problem as a polynomial sized mixed integer linear program (MILP).\n",
    "\n"
   ]
  },
  {
   "attachments": {},
   "cell_type": "markdown",
   "metadata": {},
   "source": [
    "## e. For the given graph instance, solve the MILP formulation using a commercial solver of your choosing, and report the results (running time, optimal cost, and the optimal solution). How does this compare with part f?"
   ]
  }
 ],
 "metadata": {
  "kernelspec": {
   "display_name": "t",
   "language": "python",
   "name": "python3"
  },
  "language_info": {
   "codemirror_mode": {
    "name": "ipython",
    "version": 3
   },
   "file_extension": ".py",
   "mimetype": "text/x-python",
   "name": "python",
   "nbconvert_exporter": "python",
   "pygments_lexer": "ipython3",
   "version": "3.10.8"
  },
  "orig_nbformat": 4,
  "vscode": {
   "interpreter": {
    "hash": "4a89a1f5f3b105a28e1f35cdaa9cd940f48b89a4ee25f50aec443b712f65a6cf"
   }
  }
 },
 "nbformat": 4,
 "nbformat_minor": 2
}
