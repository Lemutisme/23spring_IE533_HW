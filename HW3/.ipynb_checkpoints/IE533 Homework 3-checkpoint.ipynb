{
 "cells": [
  {
   "attachments": {},
   "cell_type": "markdown",
   "metadata": {},
   "source": [
    "__NAME: Duo Zhou__\n",
    "\n",
    "__NETID: duozhou2__"
   ]
  },
  {
   "attachments": {},
   "cell_type": "markdown",
   "metadata": {},
   "source": [
    "# 1\n",
    "The bubble sort algorithm is a popular method for sorting $n$ numbers in a non-decreasing order of their magnitudes. The algorithm maintains an ordered set of the numbers $\\{a_1, a_2, ... , a_n\\}$  that  it rearranges through a sequence of several passes over the set. In each pass, the algorithm examines every pair of elements $(a_k, a_{k+I})$ for each $k = 1,...,(n-1)$, and if the pair is out of order (i.e., $a_k > a_{k+1}$), it swaps the positions of these elements. The algorithm terminates when it makes no swap during one entire pass. \n",
    "\n",
    "Show that the algorithm performs at most $n$ passes  and  runs  in  $O(n^2)$  time. For every $n$, construct a sorting problem (i.e., the initial ordered set of numbers $\\{a_1, a_2...,a_n\\}$ so that the algorithm performs $\\Omega(n^2)$ operations. Conclude that the bubble sort is an $O(n^2)$ algorithm.\n",
    "\n",
    "## Solution\n",
    "\n",
    "Illustrate by python code as below:\n"
   ]
  },
  {
   "cell_type": "code",
   "execution_count": 1,
   "metadata": {},
   "outputs": [
    {
     "name": "stdout",
     "output_type": "stream",
     "text": [
      "[11, 24, 25, 27, 36, 46, 72, 76, 78]\n"
     ]
    }
   ],
   "source": [
    "def bubbleSort(_list):\n",
    "    n = len(_list)\n",
    "    # Go through all elements\n",
    "    for i in range(n):\n",
    "        # Last i elements are already in place\n",
    "        for j in range(0, n-i-1):\n",
    "            if _list[j] > _list[j+1] :\n",
    "                _list[j], _list[j+1] = _list[j+1], _list[j]\n",
    "    return _list\n",
    "\n",
    "test = [11, 27, 76, 24, 46, 72, 78, 25, 36]\n",
    "\n",
    "print(bubbleSort(test))"
   ]
  },
  {
   "attachments": {},
   "cell_type": "markdown",
   "metadata": {},
   "source": [
    "Optimal time complexity: $O(n)$.\n",
    "Tt means that the sorting is completed after traversing once and finding no elements that can be swapped, we only need to implement the loop of i.\n",
    "\n",
    "Worst time complexity: $O(n^2)$.\n",
    "It means in the worst-case scenario, the algorithm has to perform n-1 passes, since each pass requires $n-1$ comparisons and swaps, the total number of comparisons in the worst-case scenario is $(n-1) + (n-2) + ... + 2 + 1 = n(n-1)/2$, which is roughly proportional to $n^2$.\n"
   ]
  },
  {
   "attachments": {},
   "cell_type": "markdown",
   "metadata": {},
   "source": [
    "# 2\n",
    "Suggest an $O(m+n)$ algorithm for identifying all components of a (possibly) disconnected graph. Design the algorithm so that it will assign a label $1$ to all nodes in the first component, a label $2$ to all nodes in the second component, and so on. \n",
    "\n",
    "## Solution\n",
    "\n",
    "One algorithm to identify all components of a graph and label each component is a Depth-First Search (DFS) or Breadth-First Search (BFS) based approach, which would result in the same time and space complexity.\n",
    "\n",
    "The time complexity of this algorithm is $O(m + n)$, where m is the number of edges in the graph and n is the number of nodes. This is because in the worst case, the algorithm will visit each node and each edge once. The DFS stack requires $O(n)$ space, so the overall space complexity is also $O(n)$.\n",
    "\n",
    "Illustrate by python code as below:\n"
   ]
  },
  {
   "cell_type": "code",
   "execution_count": 2,
   "metadata": {},
   "outputs": [],
   "source": [
    "def DFS(adj_matrix, start):\n",
    "    n = len(adj_matrix)\n",
    "    # start a vertex on the stack first, mark it as visited\n",
    "    stack = []\n",
    "    result = []\n",
    "    visited = [False] * n\n",
    "    \n",
    "    stack.append(start)\n",
    "    visited[start] = True\n",
    "    \n",
    "    while stack:\n",
    "        # pop a vertex at the top of the stack, add the neighboring unvisited vertices of that vertex to the stack and mark them all as visited\n",
    "        node = stack.pop()\n",
    "        result.append(node)\n",
    "        # Repeat the previous step until the stack is empty\n",
    "        for i in range(n):\n",
    "            if adj_matrix[node][i] and not visited[i]:\n",
    "                stack.append(i)\n",
    "                visited[i] = True\n",
    "    \n",
    "    return result\n",
    "\n",
    "def BFS(adj_matrix, start):\n",
    "    # the starting vertex start goes into the queue first and is marked as visited\n",
    "    n = len(adj_matrix)\n",
    "    queue = []\n",
    "    result = []\n",
    "    visited = [False] * n\n",
    "    \n",
    "    queue.append(start)\n",
    "    visited[start] = True\n",
    "    \n",
    "    while queue:\n",
    "        # the first vertex out of the queue, and the adjacent unvisited vertices neighbors of that vertex into the queue, marking them all as visited\n",
    "        node = queue.pop(0)\n",
    "        result.append(node)\n",
    "        # repeat the previous step until the queue is empty\n",
    "        for i in range(n):\n",
    "            if adj_matrix[node][i] and not visited[i]:\n",
    "                queue.append(i)\n",
    "                visited[i] = True\n",
    "    \n",
    "    return result\n"
   ]
  },
  {
   "cell_type": "code",
   "execution_count": 3,
   "metadata": {},
   "outputs": [
    {
     "name": "stdout",
     "output_type": "stream",
     "text": [
      "[0, 1, 3, 5, 2, 4]\n",
      "[0, 1, 2, 3, 4, 5]\n"
     ]
    }
   ],
   "source": [
    "adj_matrix = [[0, 1, 0, 0, 0, 0],\n",
    "              [0, 0, 1, 1, 0, 0],\n",
    "              [0, 0, 0, 0, 1, 0],\n",
    "              [0, 0, 0, 0, 0, 1],\n",
    "              [0, 0, 0, 0, 0, 1],\n",
    "              [0, 0, 0, 0, 0, 0]]\n",
    "s = 0\n",
    "\n",
    "print(DFS(adj_matrix,s))\n",
    "print(BFS(adj_matrix,s))"
   ]
  },
  {
   "attachments": {},
   "cell_type": "markdown",
   "metadata": {},
   "source": [
    "# 3\n",
    "In an acyclic network $G = (N, A)$ with a specified source node $s$, let $\\alpha(i)$ denote the number of distinct paths from node $s$ to node $i$. Give an $O(m)$ algorithm that determines $\\alpha(i)$ for all $i \\in N$. (Hint: Examine nodes in a topological order).\n",
    "\n",
    "## Solution\n",
    "\n",
    "In an acyclic network, nodes can be ordered such that for every directed edge $(u, v)$, node $u$ appears before node $v$ in the order. This order is called a topological order, and it can be found using a topological sorting algorithm. Once the topological order is found, we can use it to determine the number of distinct paths from the source node $s$ to each node $i$ in the network. \n",
    "\n",
    "The time complexity of this algorithm is $O(m)$, where $m$ is the number of edges in the network. This is because each edge is processed exactly once and takes constant time to update the array $\\alpha$. The space complexity is $O(n)$, where $n$ is the number of nodes in the network, to store the array $\\alpha$ and the topological order of the nodes.\n",
    "\n",
    "Illustrate by python code as below:"
   ]
  },
  {
   "cell_type": "code",
   "execution_count": 4,
   "metadata": {},
   "outputs": [],
   "source": [
    "def sort_dag(adj_matrix):\n",
    "    n = len(adj_matrix)\n",
    "    sorted_vertices = []\n",
    "    visited = [False] * n\n",
    "    \n",
    "    def DFS(node):\n",
    "        nonlocal sorted_vertices\n",
    "        visited[node] = True\n",
    "        for i in range(n):\n",
    "            if adj_matrix[node][i] and not visited[i]:\n",
    "                DFS(i)\n",
    "        sorted_vertices.append(node)\n",
    "    \n",
    "    for i in range(n):\n",
    "        if not visited[i]:\n",
    "            DFS(i)\n",
    "    \n",
    "    sorted_vertices.reverse()\n",
    "    new_matrix = [[0] * n for _ in range(n)]\n",
    "    for i in range(n):\n",
    "        for j in range(n):\n",
    "            if adj_matrix[j][i]:\n",
    "                new_matrix[i][j] = 1\n",
    "    \n",
    "    return new_matrix, sorted_vertices"
   ]
  },
  {
   "cell_type": "code",
   "execution_count": 5,
   "metadata": {},
   "outputs": [],
   "source": [
    "def count_paths(adj_matrix, s):\n",
    "    n = len(adj_matrix)\n",
    "    # get the topological order of the vertices using sort_dag\n",
    "    _, sorted_vertices = sort_dag(adj_matrix)\n",
    "    # initialize an array to store the count of different paths from s to each vertex\n",
    "    count = [0] * n\n",
    "    count[s] = 1\n",
    "\n",
    "    for i in sorted_vertices:\n",
    "        for j in range(n):\n",
    "            if adj_matrix[i][j]:\n",
    "                count[j] += count[i]\n",
    "    \n",
    "    return count"
   ]
  },
  {
   "cell_type": "code",
   "execution_count": 6,
   "metadata": {},
   "outputs": [
    {
     "name": "stdout",
     "output_type": "stream",
     "text": [
      "[1, 1, 1, 1, 1, 2]\n"
     ]
    }
   ],
   "source": [
    "alpha = count_paths(adj_matrix, s)\n",
    "print(alpha)"
   ]
  },
  {
   "attachments": {},
   "cell_type": "markdown",
   "metadata": {},
   "source": [
    "# 4\n",
    "This part of the homework will also implement some of the algorithms learnt in class. You may use Python, Java, or C++ to execute this. Custom packages cannot be used to replace the algorithms tested. \n",
    "\n",
    "## a. \n",
    "Write a function is_dag(G) which returns whether the input directed graph G is a DAG. You should implement a search algorithm to answer this. G should be in the form of an adjacency matrix.\n",
    "\n",
    "### Solution\n",
    "\n",
    "Based on the DFS code above, the basic idea is to keep track of visited nodes and nodes in the recursion stack during the search. If there is a back edge (an edge connecting a node to one of its ancestors in the search tree), then the graph is not a DAG."
   ]
  },
  {
   "cell_type": "code",
   "execution_count": 7,
   "metadata": {},
   "outputs": [],
   "source": [
    "def is_dag(adj_matrix):\n",
    "    n = len(adj_matrix)\n",
    "    visited = [False] * n\n",
    "    rec_stack = [False] * n\n",
    "\n",
    "    def is_dag_util(v, visited, rec_stack):\n",
    "        visited[v] = True\n",
    "        rec_stack[v] = True\n",
    "        for i in range(n):\n",
    "            if adj_matrix[v][i] == 1:\n",
    "                if not visited[i]:\n",
    "                    if is_dag_util(i, visited, rec_stack):\n",
    "                        return True\n",
    "                elif rec_stack[i]:\n",
    "                    return True\n",
    "        rec_stack[v] = False\n",
    "        return False\n",
    "\n",
    "    for i in range(n):\n",
    "        if not visited[i]:\n",
    "            if is_dag_util(i, visited, rec_stack):\n",
    "                return False\n",
    "    return True\n"
   ]
  },
  {
   "cell_type": "code",
   "execution_count": 8,
   "metadata": {},
   "outputs": [
    {
     "data": {
      "text/plain": [
       "True"
      ]
     },
     "execution_count": 8,
     "metadata": {},
     "output_type": "execute_result"
    }
   ],
   "source": [
    "is_dag(adj_matrix)"
   ]
  },
  {
   "attachments": {},
   "cell_type": "markdown",
   "metadata": {},
   "source": [
    "\n",
    "## b. \n",
    "Write a function make_dag(G) which takes as input a directed graph G and removes the least number of edges to return a new graph G’ which is a DAG. Hint: use the function from the previous question to determine whether changes are necessary.\n",
    "\n"
   ]
  },
  {
   "cell_type": "code",
   "execution_count": 9,
   "metadata": {},
   "outputs": [],
   "source": [
    "def make_dag(adj_matrix):\n",
    "    n = len(adj_matrix)\n",
    "    new_matrix = [[adj_matrix[i][j] for j in range(n)] for i in range(n)]\n",
    "    \n",
    "    for i in range(n):\n",
    "        for j in range(n):\n",
    "            if adj_matrix[i][j]:\n",
    "                new_matrix[i][j] = 0\n",
    "                if not is_dag(new_matrix):\n",
    "                    new_matrix[i][j] = 1\n",
    "    \n",
    "    return new_matrix"
   ]
  },
  {
   "cell_type": "code",
   "execution_count": 10,
   "metadata": {},
   "outputs": [
    {
     "data": {
      "text/plain": [
       "False"
      ]
     },
     "execution_count": 10,
     "metadata": {},
     "output_type": "execute_result"
    }
   ],
   "source": [
    "adj_matrix_1 = [[0, 1, 0, 0],\n",
    "                [0, 0, 1, 0],\n",
    "                [1, 0, 0, 1],\n",
    "                [0, 1, 0, 0]]\n",
    "\n",
    "is_dag(adj_matrix_1)"
   ]
  },
  {
   "cell_type": "code",
   "execution_count": 11,
   "metadata": {},
   "outputs": [
    {
     "data": {
      "text/plain": [
       "[[0, 1, 0, 0], [0, 0, 0, 0], [0, 0, 0, 0], [0, 0, 0, 0]]"
      ]
     },
     "execution_count": 11,
     "metadata": {},
     "output_type": "execute_result"
    }
   ],
   "source": [
    "make_dag(adj_matrix_1)"
   ]
  },
  {
   "attachments": {},
   "cell_type": "markdown",
   "metadata": {},
   "source": [
    "## c. \n",
    "Write a function sort_dag(G) which takes as input a DAG G and returns an equivalent topologically sorted graph $G^'$.\n",
    "\n",
    "### Solution\n",
    "\n",
    "Use the function constructed in Question3:"
   ]
  },
  {
   "cell_type": "code",
   "execution_count": 12,
   "metadata": {},
   "outputs": [
    {
     "data": {
      "text/plain": [
       "([[0, 0, 1, 0], [1, 0, 0, 1], [0, 1, 0, 0], [0, 0, 1, 0]], [0, 1, 2, 3])"
      ]
     },
     "execution_count": 12,
     "metadata": {},
     "output_type": "execute_result"
    }
   ],
   "source": [
    "sort_dag(adj_matrix_1)"
   ]
  },
  {
   "cell_type": "code",
   "execution_count": 13,
   "metadata": {},
   "outputs": [
    {
     "data": {
      "text/plain": [
       "([[0, 0, 0, 0, 0, 0],\n",
       "  [1, 0, 0, 0, 0, 0],\n",
       "  [0, 1, 0, 0, 0, 0],\n",
       "  [0, 1, 0, 0, 0, 0],\n",
       "  [0, 0, 1, 0, 0, 0],\n",
       "  [0, 0, 0, 1, 1, 0]],\n",
       " [0, 1, 3, 2, 4, 5])"
      ]
     },
     "execution_count": 13,
     "metadata": {},
     "output_type": "execute_result"
    }
   ],
   "source": [
    "sort_dag(adj_matrix)"
   ]
  },
  {
   "attachments": {},
   "cell_type": "markdown",
   "metadata": {},
   "source": [
    "\n",
    "## d. \n",
    "Given G is the graph produced in 5c), without actually running the code (honor system) if we let H = sort_dag(make_dag(G)), is it true that H=G? Why or why not)\n",
    "\n",
    "### Solution\n",
    "No,  $H \\neq G$ after running H = sort_dag(make_dag(G)).\n",
    "\n",
    "The function make_dag() removes edges from the input graph $G$ to obtain a DAG $G'$. Therefore, $G'$ is a subgraph of $G$, which has a different structure than $G$.\n",
    "\n",
    "The function sort_dag() takes as input a DAG $G'$ and returns an equivalent topologically sorted graph $G''$. \n",
    "\n",
    "Therefore, $G''$ has the same vertices as $G'$, but with the edges rearranged to be in topological order.\n",
    "\n",
    "Verify with code:"
   ]
  },
  {
   "cell_type": "code",
   "execution_count": 14,
   "metadata": {},
   "outputs": [
    {
     "name": "stdout",
     "output_type": "stream",
     "text": [
      "False\n"
     ]
    }
   ],
   "source": [
    "G = adj_matrix_1\n",
    "\n",
    "H, vertex_sort = sort_dag(make_dag(G))\n",
    "\n",
    "if G == H:\n",
    "    print(True)\n",
    "else:\n",
    "    print(False)"
   ]
  },
  {
   "cell_type": "markdown",
   "metadata": {},
   "source": []
  }
 ],
 "metadata": {
  "kernelspec": {
   "display_name": "T",
   "language": "python",
   "name": "python3"
  },
  "language_info": {
   "codemirror_mode": {
    "name": "ipython",
    "version": 3
   },
   "file_extension": ".py",
   "mimetype": "text/x-python",
   "name": "python",
   "nbconvert_exporter": "python",
   "pygments_lexer": "ipython3",
   "version": "3.9.15"
  },
  "orig_nbformat": 4,
  "vscode": {
   "interpreter": {
    "hash": "8ac8dd01d0567429a9d206b16aa67c3908dd3e41496d903f683612746eb8ea8d"
   }
  }
 },
 "nbformat": 4,
 "nbformat_minor": 2
}
